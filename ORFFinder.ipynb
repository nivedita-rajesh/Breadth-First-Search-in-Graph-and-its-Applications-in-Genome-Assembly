{
  "nbformat": 4,
  "nbformat_minor": 0,
  "metadata": {
    "colab": {
      "name": "ORFFinder.ipynb",
      "provenance": [],
      "collapsed_sections": [],
      "include_colab_link": true
    },
    "kernelspec": {
      "name": "python3",
      "display_name": "Python 3"
    },
    "language_info": {
      "name": "python"
    }
  },
  "cells": [
    {
      "cell_type": "markdown",
      "metadata": {
        "id": "view-in-github",
        "colab_type": "text"
      },
      "source": [
        "<a href=\"https://colab.research.google.com/github/nivedita-rajesh/Breadth-First-Search-in-Graph-and-its-Applications-in-Genome-Assembly/blob/main/ORFFinder.ipynb\" target=\"_parent\"><img src=\"https://colab.research.google.com/assets/colab-badge.svg\" alt=\"Open In Colab\"/></a>"
      ]
    },
    {
      "cell_type": "code",
      "source": [
        "#pip install biopython"
      ],
      "metadata": {
        "id": "d_qY2bdsdKlA"
      },
      "execution_count": null,
      "outputs": []
    },
    {
      "cell_type": "code",
      "source": [
        "#from Bio import Entrez\n",
        "#from Bio import SeqIO"
      ],
      "metadata": {
        "id": "YgluDmodddg6"
      },
      "execution_count": null,
      "outputs": []
    },
    {
      "cell_type": "code",
      "source": [
        "#AH007100\n",
        "#protein = Entrez.efetch(db=\"nucleotide\", id=input(), rettype=\"fasta\", retmode=\"text\")\n",
        "#record = SeqIO.read(protein, \"fasta\")\n",
        "#print(record.seq)\n",
        "#seq=record.seq"
      ],
      "metadata": {
        "id": "-gDrbzAbdO55"
      },
      "execution_count": null,
      "outputs": []
    },
    {
      "cell_type": "code",
      "source": [
        "seq=\"CGCTACGTCTTACGCTGGAGCTCTCATGGATCGGTTCGGTAGGGCTCGATCACATCGCTAGCCAT\""
      ],
      "metadata": {
        "id": "Vkc177mFbmcf"
      },
      "execution_count": null,
      "outputs": []
    },
    {
      "cell_type": "code",
      "source": [
        "#frame1\n",
        "seq1=str(seq)\n",
        "a1 = \" \".join([seq1[i:i+3] for i in range(0, len(seq1), 3)])"
      ],
      "metadata": {
        "id": "JF0_aLxdp5eS"
      },
      "execution_count": null,
      "outputs": []
    },
    {
      "cell_type": "code",
      "source": [
        "#frame2\n",
        "seq2=str(seq[1:len(seq)])\n",
        "a2 = \" \".join([seq2[i:i+3] for i in range(0, len(seq2), 3)])\n",
        "a2=seq[0]+\" \"+a2"
      ],
      "metadata": {
        "id": "Blz5qayZLiq2"
      },
      "execution_count": null,
      "outputs": []
    },
    {
      "cell_type": "code",
      "source": [
        "#frame3\n",
        "seq3=str(seq[2:len(seq)])\n",
        "a3 = \" \".join([seq3[i:i+3] for i in range(0, len(seq3), 3)])\n",
        "a3=seq[0]+seq[1]+\" \"+a3"
      ],
      "metadata": {
        "id": "jnFvWdwVLjiE"
      },
      "execution_count": null,
      "outputs": []
    },
    {
      "cell_type": "code",
      "source": [
        "res=\"\"\n",
        "for i in range(len(seq)):\n",
        "    if seq[i]=='A':\n",
        "        res=res+'T'\n",
        "    elif seq[i]=='T':\n",
        "        res=res+'A'\n",
        "    elif seq[i]=='C':\n",
        "        res=res+'G'\n",
        "    else:\n",
        "        res=res+'C'\n",
        "    #return res\n",
        "res=res[::-1]\n",
        "\n",
        "print('Complement : ',res[::-1])\n",
        "print('Reverse Complement : ',res)"
      ],
      "metadata": {
        "colab": {
          "base_uri": "https://localhost:8080/"
        },
        "id": "O9aei6v7L7d5",
        "outputId": "ccc48aed-ed04-41d4-a737-35cc02b523bd"
      },
      "execution_count": null,
      "outputs": [
        {
          "output_type": "stream",
          "name": "stdout",
          "text": [
            "Complement :  GCGATGCAGAATGCGACCTCGAGAGTACCTAGCCAAGCCATCCCGAGCTAGTGTAGCGATCGGTA\n",
            "Reverse Complement :  ATGGCTAGCGATGTGATCGAGCCCTACCGAACCGATCCATGAGAGCTCCAGCGTAAGACGTAGCG\n"
          ]
        }
      ]
    },
    {
      "cell_type": "code",
      "source": [
        "#frame-1\n",
        "seq_1=str(res)\n",
        "a_1 = \" \".join([seq_1[i:i+3] for i in range(0, len(seq_1), 3)])"
      ],
      "metadata": {
        "id": "9VjD5lg_NChq"
      },
      "execution_count": null,
      "outputs": []
    },
    {
      "cell_type": "code",
      "source": [
        "#frame-2\n",
        "seq_2=str(res[1:len(res)])\n",
        "a_2 = \" \".join([seq_2[i:i+3] for i in range(0, len(seq_2), 3)])\n",
        "a_2=res[0]+\" \"+a_2"
      ],
      "metadata": {
        "id": "a-4HyCQoNnqo"
      },
      "execution_count": null,
      "outputs": []
    },
    {
      "cell_type": "code",
      "source": [
        "#frame-3\n",
        "seq_3=str(res[2:len(res)])\n",
        "a_3 = \" \".join([seq_3[i:i+3] for i in range(0, len(seq_3), 3)])\n",
        "a_3=res[0]+res[1]+\" \"+a_3"
      ],
      "metadata": {
        "id": "WI7X6IhJOGPh"
      },
      "execution_count": null,
      "outputs": []
    },
    {
      "cell_type": "code",
      "source": [
        "l1=a1.split(\" \")\n",
        "print(\"frame 1 :\",l1)\n",
        "l2=a2.split(\" \")\n",
        "print(\"frame 2 :\",l2)\n",
        "l3=a3.split(\" \")\n",
        "print(\"frame 3 :\",l3)\n",
        "l4=a_1.split(\" \")\n",
        "print(\"frame -1 :\",l4)\n",
        "l5=a_2.split(\" \")\n",
        "print(\"frame -2 :\",l5)\n",
        "l6=a_3.split(\" \")\n",
        "print(\"frame -3 :\",l6)"
      ],
      "metadata": {
        "id": "LMGzXgN1YxbB",
        "colab": {
          "base_uri": "https://localhost:8080/"
        },
        "outputId": "8c407f29-edf9-494c-dbc9-e59f734f77a5"
      },
      "execution_count": null,
      "outputs": [
        {
          "output_type": "stream",
          "name": "stdout",
          "text": [
            "frame 1 : ['CGC', 'TAC', 'GTC', 'TTA', 'CGC', 'TGG', 'AGC', 'TCT', 'CAT', 'GGA', 'TCG', 'GTT', 'CGG', 'TAG', 'GGC', 'TCG', 'ATC', 'ACA', 'TCG', 'CTA', 'GCC', 'AT']\n",
            "frame 2 : ['C', 'GCT', 'ACG', 'TCT', 'TAC', 'GCT', 'GGA', 'GCT', 'CTC', 'ATG', 'GAT', 'CGG', 'TTC', 'GGT', 'AGG', 'GCT', 'CGA', 'TCA', 'CAT', 'CGC', 'TAG', 'CCA', 'T']\n",
            "frame 3 : ['CG', 'CTA', 'CGT', 'CTT', 'ACG', 'CTG', 'GAG', 'CTC', 'TCA', 'TGG', 'ATC', 'GGT', 'TCG', 'GTA', 'GGG', 'CTC', 'GAT', 'CAC', 'ATC', 'GCT', 'AGC', 'CAT']\n",
            "frame -1 : ['ATG', 'GCT', 'AGC', 'GAT', 'GTG', 'ATC', 'GAG', 'CCC', 'TAC', 'CGA', 'ACC', 'GAT', 'CCA', 'TGA', 'GAG', 'CTC', 'CAG', 'CGT', 'AAG', 'ACG', 'TAG', 'CG']\n",
            "frame -2 : ['A', 'TGG', 'CTA', 'GCG', 'ATG', 'TGA', 'TCG', 'AGC', 'CCT', 'ACC', 'GAA', 'CCG', 'ATC', 'CAT', 'GAG', 'AGC', 'TCC', 'AGC', 'GTA', 'AGA', 'CGT', 'AGC', 'G']\n",
            "frame -3 : ['AT', 'GGC', 'TAG', 'CGA', 'TGT', 'GAT', 'CGA', 'GCC', 'CTA', 'CCG', 'AAC', 'CGA', 'TCC', 'ATG', 'AGA', 'GCT', 'CCA', 'GCG', 'TAA', 'GAC', 'GTA', 'GCG']\n"
          ]
        }
      ]
    },
    {
      "cell_type": "code",
      "source": [
        "orf1=[]\n",
        "stopcodons=['TAG','TGA','TAA']\n",
        "flag= False\n",
        "\n",
        "for i in l1:\n",
        "  if (i=='ATG'):\n",
        "    flag=True\n",
        "  if(flag):\n",
        "    if(i not in stopcodons):\n",
        "      orf1.append(i)\n",
        "    else:\n",
        "      orf1.append(i)\n",
        "      break"
      ],
      "metadata": {
        "id": "nUaiwnBTcFHX"
      },
      "execution_count": null,
      "outputs": []
    },
    {
      "cell_type": "code",
      "source": [
        "orf2=[]\n",
        "stopcodons=['TAG','TGA','TAA']\n",
        "flag= False\n",
        "\n",
        "for i in l2:\n",
        "  if (i=='ATG'):\n",
        "    flag=True\n",
        "  if(flag):\n",
        "    if(i not in stopcodons):\n",
        "      orf2.append(i)\n",
        "    else:\n",
        "      orf2.append(i)\n",
        "      break"
      ],
      "metadata": {
        "id": "0GrQiWqMd-AK"
      },
      "execution_count": null,
      "outputs": []
    },
    {
      "cell_type": "code",
      "source": [
        "orf3=[]\n",
        "stopcodons=['TAG','TGA','TAA']\n",
        "flag= False\n",
        "\n",
        "for i in l3:\n",
        "  if (i=='ATG'):\n",
        "    flag=True\n",
        "  if(flag):\n",
        "    if(i not in stopcodons):\n",
        "      orf3.append(i)\n",
        "    else:\n",
        "      orf3.append(i)\n",
        "      break"
      ],
      "metadata": {
        "id": "XsLpcwnDfc-u"
      },
      "execution_count": null,
      "outputs": []
    },
    {
      "cell_type": "code",
      "source": [
        "orf_1=[]\n",
        "stopcodons=['TAG','TGA','TAA']\n",
        "flag= False\n",
        "\n",
        "for i in l4:\n",
        "  if (i=='ATG'):\n",
        "    flag=True\n",
        "  if(flag):\n",
        "    if(i not in stopcodons):\n",
        "      orf_1.append(i)\n",
        "    else:\n",
        "      orf_1.append(i)\n",
        "      break"
      ],
      "metadata": {
        "id": "_OO8uU33fkWn"
      },
      "execution_count": null,
      "outputs": []
    },
    {
      "cell_type": "code",
      "source": [
        "orf_2=[]\n",
        "stopcodons=['TAG','TGA','TAA']\n",
        "flag= False\n",
        "\n",
        "for i in l5:\n",
        "  if (i=='ATG'):\n",
        "    flag=True\n",
        "  if(flag):\n",
        "    if(i not in stopcodons):\n",
        "      orf_2.append(i)\n",
        "    else:\n",
        "      orf_2.append(i)\n",
        "      break"
      ],
      "metadata": {
        "id": "RM-8JeykgB_C"
      },
      "execution_count": null,
      "outputs": []
    },
    {
      "cell_type": "code",
      "source": [
        "orf_3=[]\n",
        "stopcodons=['TAG','TGA','TAA']\n",
        "flag= False\n",
        "\n",
        "for i in l6:\n",
        "  if (i=='ATG'):\n",
        "    flag=True\n",
        "  if(flag):\n",
        "    if(i not in stopcodons):\n",
        "      orf_3.append(i)\n",
        "    else:\n",
        "      orf_3.append(i)\n",
        "      break"
      ],
      "metadata": {
        "id": "MDy6mNnbhBlM"
      },
      "execution_count": null,
      "outputs": []
    },
    {
      "cell_type": "code",
      "source": [
        "print(\"Open Reading Frames\\n\")\n",
        "print(\"ORF 1 : \",orf1)\n",
        "print(\"ORF 2 : \",orf2)\n",
        "print(\"ORF 3 : \",orf3)\n",
        "print(\"ORF -1 : \",orf_1)\n",
        "print(\"ORF -2 : \",orf_2)\n",
        "print(\"ORF -3 : \",orf_3)"
      ],
      "metadata": {
        "colab": {
          "base_uri": "https://localhost:8080/"
        },
        "id": "A-tNvoTIp2Z-",
        "outputId": "0054049a-3a3d-48b2-de03-5e4f743375c0"
      },
      "execution_count": null,
      "outputs": [
        {
          "output_type": "stream",
          "name": "stdout",
          "text": [
            "Open Reading Frames\n",
            "\n",
            "ORF 1 :  []\n",
            "ORF 2 :  ['ATG', 'GAT', 'CGG', 'TTC', 'GGT', 'AGG', 'GCT', 'CGA', 'TCA', 'CAT', 'CGC', 'TAG']\n",
            "ORF 3 :  []\n",
            "ORF -1 :  ['ATG', 'GCT', 'AGC', 'GAT', 'GTG', 'ATC', 'GAG', 'CCC', 'TAC', 'CGA', 'ACC', 'GAT', 'CCA', 'TGA']\n",
            "ORF -2 :  ['ATG', 'TGA']\n",
            "ORF -3 :  ['ATG', 'AGA', 'GCT', 'CCA', 'GCG', 'TAA']\n"
          ]
        }
      ]
    },
    {
      "cell_type": "code",
      "source": [
        "amino1=\" \".join(orf1)\n",
        "amino1=amino1.replace(\" \",\"\")\n",
        "amino2=\" \".join(orf2)\n",
        "amino2=amino2.replace(\" \",\"\")\n",
        "amino3=\" \".join(orf3)\n",
        "amino3=amino3.replace(\" \",\"\")\n",
        "amino_1=\" \".join(orf_1)\n",
        "amino_1=amino_1.replace(\" \",\"\")\n",
        "amino_2=\" \".join(orf_2)\n",
        "amino_2=amino_2.replace(\" \",\"\")\n",
        "amino_3=\" \".join(orf_3)\n",
        "amino_3=amino_3.replace(\" \",\"\")"
      ],
      "metadata": {
        "id": "fSPSg0blROPG"
      },
      "execution_count": null,
      "outputs": []
    },
    {
      "cell_type": "code",
      "source": [
        "CODON_TABLE = {\n",
        "        'ATA':'ile', 'ATC':'ile', 'ATT':'ile', 'ATG':'met',\n",
        "        'ACA':'thr', 'ACC':'thr', 'ACG':'thr', 'ACT':'thr',\n",
        "        'AAC':'asn', 'AAT':'asn', 'AAA':'lys', 'AAG':'lys',\n",
        "        'AGC':'ser', 'AGT':'ser', 'AGA':'arg', 'AGG':'arg',                \n",
        "        'CTA':'leu', 'CTC':'leu', 'CTG':'leu', 'CTT':'leu',\n",
        "        'CCA':'pro', 'CCC':'pro', 'CCG':'pro', 'CCT':'pro',\n",
        "        'CAC':'his', 'CAT':'his', 'CAA':'gln', 'CAG':'gln',\n",
        "        'CGA':'arg', 'CGC':'arg', 'CGG':'arg', 'CGT':'arg',\n",
        "        'GTA':'val', 'GTC':'val', 'GTG':'val', 'GTT':'val',\n",
        "        'GCA':'ala', 'GCC':'ala', 'GCG':'ala', 'GCT':'ala',\n",
        "        'GAC':'asp', 'GAT':'asp', 'GAA':'glu', 'GAG':'glu',\n",
        "        'GGA':'gly', 'GGC':'gly', 'GGG':'gly', 'GGT':'gly',\n",
        "        'TCA':'ser', 'TCC':'ser', 'TCG':'ser', 'TCT':'ser',\n",
        "        'TTC':'phe', 'TTT':'phe', 'TTA':'leu', 'TTG':'leu',\n",
        "        'TAC':'tyr', 'TAT':'tyr', 'TAA':'stop', 'TAG':'stop',\n",
        "        'TGC':'cys', 'TGT':'cys', 'TGA':'stop', 'TGG':'trp',\n",
        "    }"
      ],
      "metadata": {
        "id": "fuMj4WVt3pGF"
      },
      "execution_count": null,
      "outputs": []
    },
    {
      "cell_type": "code",
      "source": [
        "def protein_string(RNA):\n",
        "    result1 = ''\n",
        "\n",
        "    for i in range(0, len(RNA), 3):\n",
        "        symbol = CODON_TABLE[RNA[i:i+3]]\n",
        "        if symbol == 'Stop':\n",
        "            break\n",
        "        result1 += symbol\n",
        "\n",
        "    return result1\n",
        "    res1=result1\n",
        "\n",
        "protein_string(amino1)"
      ],
      "metadata": {
        "colab": {
          "base_uri": "https://localhost:8080/",
          "height": 35
        },
        "id": "BLPpafFS3qCp",
        "outputId": "9a43dc15-45e1-400c-f6c0-0ace48e49efd"
      },
      "execution_count": null,
      "outputs": [
        {
          "output_type": "execute_result",
          "data": {
            "text/plain": [
              "''"
            ],
            "application/vnd.google.colaboratory.intrinsic+json": {
              "type": "string"
            }
          },
          "metadata": {},
          "execution_count": 73
        }
      ]
    },
    {
      "cell_type": "code",
      "source": [
        "def protein_string(RNA):\n",
        "    result2 = ''\n",
        "\n",
        "    for i in range(0, len(RNA), 3):\n",
        "        symbol = CODON_TABLE[RNA[i:i+3]]\n",
        "        if symbol == 'Stop':\n",
        "            break\n",
        "        result2=result2+ symbol+\" \"\n",
        "\n",
        "    return result2\n",
        "    res2=result2\n",
        "\n",
        "protein_string(amino2)"
      ],
      "metadata": {
        "colab": {
          "base_uri": "https://localhost:8080/",
          "height": 35
        },
        "id": "Wa896YE1NOFt",
        "outputId": "b7bb7cf0-cc85-4b3b-86da-3b4f9ddeda6f"
      },
      "execution_count": null,
      "outputs": [
        {
          "output_type": "execute_result",
          "data": {
            "text/plain": [
              "'met asp arg phe gly arg ala arg ser his arg stop '"
            ],
            "application/vnd.google.colaboratory.intrinsic+json": {
              "type": "string"
            }
          },
          "metadata": {},
          "execution_count": 74
        }
      ]
    },
    {
      "cell_type": "code",
      "source": [
        "def protein_string(RNA):\n",
        "    result3 = ''\n",
        "\n",
        "    for i in range(0, len(RNA), 3):\n",
        "        symbol = CODON_TABLE[RNA[i:i+3]]\n",
        "        if symbol == 'Stop':\n",
        "            break\n",
        "        result3=result3+ symbol+\" \"\n",
        "    return result3\n",
        "    res3=result3\n",
        "protein_string(amino3)"
      ],
      "metadata": {
        "colab": {
          "base_uri": "https://localhost:8080/",
          "height": 35
        },
        "id": "TK3jCvwxNS-r",
        "outputId": "0a4555ae-6c34-43cd-a8d4-5c933dedd987"
      },
      "execution_count": null,
      "outputs": [
        {
          "output_type": "execute_result",
          "data": {
            "text/plain": [
              "''"
            ],
            "application/vnd.google.colaboratory.intrinsic+json": {
              "type": "string"
            }
          },
          "metadata": {},
          "execution_count": 75
        }
      ]
    },
    {
      "cell_type": "code",
      "source": [
        "def protein_string(RNA):\n",
        "    result_1 = ''\n",
        "\n",
        "    for i in range(0, len(RNA), 3):\n",
        "        symbol = CODON_TABLE[RNA[i:i+3]]\n",
        "        if symbol == 'Stop':\n",
        "            break\n",
        "        result_1=result_1+ symbol+\" \"\n",
        "    return result_1\n",
        "    res_1=result_1\n",
        "\n",
        "protein_string(amino_1)"
      ],
      "metadata": {
        "id": "Sc9Bfq1gNTMQ",
        "colab": {
          "base_uri": "https://localhost:8080/",
          "height": 35
        },
        "outputId": "5e4bd733-685f-4a96-dcf8-3857d04beb3a"
      },
      "execution_count": null,
      "outputs": [
        {
          "output_type": "execute_result",
          "data": {
            "text/plain": [
              "'met ala ser asp val ile glu pro tyr arg thr asp pro stop '"
            ],
            "application/vnd.google.colaboratory.intrinsic+json": {
              "type": "string"
            }
          },
          "metadata": {},
          "execution_count": 76
        }
      ]
    },
    {
      "cell_type": "code",
      "source": [
        "def protein_string(RNA):\n",
        "    result_2 = ''\n",
        "\n",
        "    for i in range(0, len(RNA), 3):\n",
        "        symbol = CODON_TABLE[RNA[i:i+3]]\n",
        "        if symbol == 'Stop':\n",
        "            break\n",
        "        result_2=result_2+ symbol+\" \"\n",
        "    return result_2\n",
        "\n",
        "protein_string(amino_2)"
      ],
      "metadata": {
        "colab": {
          "base_uri": "https://localhost:8080/",
          "height": 35
        },
        "id": "V32sd6SGYok4",
        "outputId": "8270b836-4168-4bc6-c50c-e826525e9369"
      },
      "execution_count": null,
      "outputs": [
        {
          "output_type": "execute_result",
          "data": {
            "text/plain": [
              "'met stop '"
            ],
            "application/vnd.google.colaboratory.intrinsic+json": {
              "type": "string"
            }
          },
          "metadata": {},
          "execution_count": 77
        }
      ]
    },
    {
      "cell_type": "code",
      "source": [
        "def protein_string(RNA):\n",
        "    result_3 = ''\n",
        "\n",
        "    for i in range(0, len(RNA), 3):\n",
        "        symbol = CODON_TABLE[RNA[i:i+3]]\n",
        "        if symbol == 'Stop':\n",
        "            break\n",
        "        result_3=result_3+ symbol+\" \"\n",
        "    return result_3\n",
        "\n",
        "protein_string(amino_3)"
      ],
      "metadata": {
        "colab": {
          "base_uri": "https://localhost:8080/",
          "height": 35
        },
        "id": "lt8tzkWfYzqF",
        "outputId": "46e51b2f-33fa-4c5f-ff01-22001393c394"
      },
      "execution_count": null,
      "outputs": [
        {
          "output_type": "execute_result",
          "data": {
            "text/plain": [
              "'met arg ala pro ala stop '"
            ],
            "application/vnd.google.colaboratory.intrinsic+json": {
              "type": "string"
            }
          },
          "metadata": {},
          "execution_count": 78
        }
      ]
    }
  ]
}